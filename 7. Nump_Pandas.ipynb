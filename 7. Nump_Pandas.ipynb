{
 "cells": [
  {
   "cell_type": "code",
   "execution_count": 1,
   "metadata": {},
   "outputs": [],
   "source": [
    "import numpy as np\n",
    "import pandas as pd"
   ]
  },
  {
   "cell_type": "code",
   "execution_count": 9,
   "metadata": {},
   "outputs": [
    {
     "name": "stdout",
     "output_type": "stream",
     "text": [
      "[[ 1  2  3  4  5]\n",
      " [ 6  7  8  9 10]] \n",
      "\n"
     ]
    }
   ],
   "source": [
    "\n",
    "# Exercise 1: Create a numpy array from 1 to 10 and reshape it to a 2x5 matrix\n",
    "arr1 = np.arange(1, 11).reshape(2, 5)\n",
    "print(arr1, \"\\n\")"
   ]
  },
  {
   "cell_type": "code",
   "execution_count": 10,
   "metadata": {},
   "outputs": [
    {
     "name": "stdout",
     "output_type": "stream",
     "text": [
      "[ 6  7  8  9 10 11 12 13 14 15 16] \n",
      "\n"
     ]
    }
   ],
   "source": [
    "# Exercise 2: Create a numpy array from 1 to 20 and extract elements between index 5 and 15\n",
    "arr2 = np.arange(1, 21)\n",
    "extracted_elements = arr2[5:16]\n",
    "print(extracted_elements, \"\\n\")"
   ]
  },
  {
   "cell_type": "code",
   "execution_count": 11,
   "metadata": {},
   "outputs": [
    {
     "name": "stdout",
     "output_type": "stream",
     "text": [
      "apples     3\n",
      "bananas    2\n",
      "oranges    1\n",
      "pears      4\n",
      "dtype: int64 \n",
      "\n"
     ]
    }
   ],
   "source": [
    "# Exercise 3: Create a Pandas series and add a new item\n",
    "fruits = pd.Series({'apples': 3, 'bananas': 2, 'oranges': 1})\n",
    "fruits['pears']=4\n",
    "print(fruits, \"\\n\")"
   ]
  },
  {
   "cell_type": "code",
   "execution_count": 14,
   "metadata": {},
   "outputs": [
    {
     "name": "stdout",
     "output_type": "stream",
     "text": [
      "     name  age  gender\n",
      "0    John   25    Male\n",
      "1     Emy   30  Female\n",
      "2   Robin   28    Male\n",
      "3    Joby   35  Female\n",
      "4  Philip   40    Male\n",
      "5   Susan   22  Female\n",
      "6   David   29    Male\n",
      "7  Alvina   33  Female\n",
      "8   Sachu   26    Male\n",
      "9   Dhoni   31    Male \n",
      "\n"
     ]
    }
   ],
   "source": [
    "# Exercise 4: Create a DataFrame with name, age, gender\n",
    "data = {\n",
    "    'name': ['John', 'Emy', 'Robin', 'Joby', 'Philip', 'Susan', 'David', 'Alvina', 'Sachu', 'Dhoni'],\n",
    "    'age': [25, 30, 28, 35, 40, 22, 29, 33, 26, 31],\n",
    "    'gender': ['Male', 'Female', 'Male', 'Female', 'Male', 'Female', 'Male', 'Female', 'Male', 'Male']\n",
    "}\n",
    "df = pd.DataFrame(data)\n",
    "print(df, \"\\n\")"
   ]
  },
  {
   "cell_type": "code",
   "execution_count": 15,
   "metadata": {},
   "outputs": [
    {
     "name": "stdout",
     "output_type": "stream",
     "text": [
      "     name  age  gender  occupation\n",
      "0    John   25    Male  Programmer\n",
      "1     Emy   30  Female     Manager\n",
      "2   Robin   28    Male     Analyst\n",
      "3    Joby   35  Female  Programmer\n",
      "4  Philip   40    Male     Manager\n",
      "5   Susan   22  Female     Analyst\n",
      "6   David   29    Male  Programmer\n",
      "7  Alvina   33  Female     Manager\n",
      "8   Sachu   26    Male     Analyst\n",
      "9   Dhoni   31    Male  Programmer \n",
      "\n"
     ]
    }
   ],
   "source": [
    "\n",
    "# Exercise 5: Add a new column 'occupation' with predefined values\n",
    "df['occupation'] = ['Programmer', 'Manager', 'Analyst', 'Programmer', 'Manager', 'Analyst', 'Programmer', 'Manager', 'Analyst', 'Programmer']\n",
    "print(df, \"\\n\")"
   ]
  },
  {
   "cell_type": "code",
   "execution_count": 16,
   "metadata": {},
   "outputs": [
    {
     "name": "stdout",
     "output_type": "stream",
     "text": [
      "     name  age  gender  occupation\n",
      "1     Emy   30  Female     Manager\n",
      "3    Joby   35  Female  Programmer\n",
      "4  Philip   40    Male     Manager\n",
      "7  Alvina   33  Female     Manager\n",
      "9   Dhoni   31    Male  Programmer \n",
      "\n"
     ]
    }
   ],
   "source": [
    "\n",
    "# Exercise 6: Select rows where age is greater than or equal to 30\n",
    "filtered_df = df[df['age'] >= 30]\n",
    "print(filtered_df, \"\\n\")"
   ]
  },
  {
   "cell_type": "code",
   "execution_count": 17,
   "metadata": {},
   "outputs": [
    {
     "name": "stdout",
     "output_type": "stream",
     "text": [
      "     name  age  gender  occupation\n",
      "0    John   25    Male  Programmer\n",
      "1     Emy   30  Female     Manager\n",
      "2   Robin   28    Male     Analyst\n",
      "3    Joby   35  Female  Programmer\n",
      "4  Philip   40    Male     Manager\n",
      "5   Susan   22  Female     Analyst\n",
      "6   David   29    Male  Programmer\n",
      "7  Alvina   33  Female     Manager\n",
      "8   Sachu   26    Male     Analyst\n",
      "9   Dhoni   31    Male  Programmer \n",
      "\n"
     ]
    }
   ],
   "source": [
    "# Exercise 7: Convert DataFrame to CSV, read it back, and display contents\n",
    "df.to_csv(\"data.csv\", index=False)\n",
    "df_read = pd.read_csv(\"data.csv\")\n",
    "print(df_read, \"\\n\")"
   ]
  }
 ],
 "metadata": {
  "kernelspec": {
   "display_name": "Python 3",
   "language": "python",
   "name": "python3"
  },
  "language_info": {
   "codemirror_mode": {
    "name": "ipython",
    "version": 3
   },
   "file_extension": ".py",
   "mimetype": "text/x-python",
   "name": "python",
   "nbconvert_exporter": "python",
   "pygments_lexer": "ipython3",
   "version": "3.10.2"
  }
 },
 "nbformat": 4,
 "nbformat_minor": 2
}
